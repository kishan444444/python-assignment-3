{
 "cells": [
  {
   "cell_type": "code",
   "execution_count": null,
   "id": "d3de3501-48ab-41c9-86f3-f7a321acecd4",
   "metadata": {},
   "outputs": [],
   "source": [
    "#1. Why are functions advantageous to have in your programs?\n",
    "\"\"\"\n",
    "The use of functions makes a program more readable. \n",
    "It's frequently difficult to read a large program. \n",
    "Breaking the code down into smaller functions keeps the program structured, understandable, and reusable. \n",
    "The function can be reused countless times after it is defined.\n",
    "\"\"\""
   ]
  },
  {
   "cell_type": "code",
   "execution_count": null,
   "id": "a9ccf753-9dc9-43ef-88b4-dd3e906306b5",
   "metadata": {
    "tags": []
   },
   "outputs": [],
   "source": [
    "#2. When does the code in a function run: when it is specified or when it is called\n",
    "\"\"\"\n",
    "function only run when it is called.\n",
    "\"\"\"\n"
   ]
  },
  {
   "cell_type": "code",
   "execution_count": null,
   "id": "3831b2e5-a6d9-4cdd-90f4-6bd2cb3cbc1a",
   "metadata": {},
   "outputs": [],
   "source": [
    "#3 What statement creates a function?\n",
    "\"\"\"\n",
    "\"def\" keyword is used to create function.\n",
    "\"\"\"\n"
   ]
  },
  {
   "cell_type": "code",
   "execution_count": null,
   "id": "089b8d58-2f52-4eeb-868f-a9bc3c78f446",
   "metadata": {},
   "outputs": [],
   "source": [
    "#4 What is the difference between a function and a function call?\n",
    "\"\"\"\n",
    "A function is a block of code that performs a specific task,\n",
    "while a function call is an expression that invokes a function \n",
    "and executes the code in the function\n",
    "\"\"\""
   ]
  },
  {
   "cell_type": "code",
   "execution_count": null,
   "id": "01717c50-4a9f-45c1-85fc-618d92dc55ad",
   "metadata": {},
   "outputs": [],
   "source": [
    "#5. How many global scopes are there in a Python program? How many local scopes?\n",
    "\"\"\"\n",
    "There is one global scope, \n",
    "and a local scope is created whenever a function is called.\n",
    "\"\"\""
   ]
  },
  {
   "cell_type": "code",
   "execution_count": null,
   "id": "453a603f-e76b-4607-b843-5ea674d07627",
   "metadata": {},
   "outputs": [],
   "source": [
    "#6 What happens to variables in a local scope when the function call returns?\n",
    "\"\"\"\n",
    "When the execution of the function terminates (returns), \n",
    "the local variables are destroyed. \n",
    "Codelens helps you visualize this because the local variables disappear after the function returns.\n",
    "\"\"\""
   ]
  },
  {
   "cell_type": "code",
   "execution_count": null,
   "id": "eeb173c7-640e-4edc-ae22-743c7237a487",
   "metadata": {},
   "outputs": [],
   "source": [
    "#7 What is the concept of a return value? Is it possible to have a return value in an expression?\n",
    "\"\"\"\n",
    "A return is a value that a function returns to the calling script or function when it completes its task.\n",
    "A return value can be any one of the three variable types: integer, float, or string.\n",
    "It possible to have a return value in an expression.\n",
    "\"\"\"\n"
   ]
  },
  {
   "cell_type": "code",
   "execution_count": null,
   "id": "64389415-af66-4c9f-beef-8f10608df36e",
   "metadata": {},
   "outputs": [],
   "source": [
    "#8 If a function does not have a return statement, what is the return value of a call to that function?\n",
    "\"\"\"\n",
    "If there is no return statement for a function, its return value is None."
   ]
  },
  {
   "cell_type": "code",
   "execution_count": null,
   "id": "3295b5de-d5aa-495e-9e4f-25d214e44611",
   "metadata": {},
   "outputs": [],
   "source": [
    "#9 How do you make a function variable refer to the global variable?\n",
    "\"\"\"\n",
    "Use the global keyword.\n",
    "\n",
    "\"\"\"\n"
   ]
  },
  {
   "cell_type": "code",
   "execution_count": null,
   "id": "7d4cca02-edf4-430c-a748-56e8ad89a7a2",
   "metadata": {},
   "outputs": [],
   "source": [
    "#10. What is the data type of None?\n",
    "\"\"\"\n",
    "None is a data type of its own (NoneType) and only None can be None.\n",
    "\"\"\"\n"
   ]
  },
  {
   "cell_type": "code",
   "execution_count": null,
   "id": "1175d7fe-64c3-40d8-83d7-ef2fc43cc98c",
   "metadata": {},
   "outputs": [],
   "source": [
    "#11. What does the sentence import areallyourpetsnamederic do?\n",
    "\"\"\"\n",
    "imports a module named areallyourpetsnamederic.\n",
    "\"\"\""
   ]
  },
  {
   "cell_type": "code",
   "execution_count": null,
   "id": "df53abae-5f60-4dc5-b4b8-a71bd0eb7266",
   "metadata": {},
   "outputs": [],
   "source": [
    "#12. If you had a bacon() feature in a spam module, what would you call it after importing spam?\n",
    "\"\"\"\n",
    "This function can be called with spam. bacon().\n",
    "\"\"\""
   ]
  },
  {
   "cell_type": "code",
   "execution_count": null,
   "id": "2cc34b28-8ebb-418f-88e5-31d3ade4c304",
   "metadata": {
    "tags": []
   },
   "outputs": [],
   "source": [
    "#13 What can you do to save a programme from crashing if it encounters an error?\n",
    "\"\"\"\n",
    "Each and every exception has to be handled by the programmer to avoid the program from crashing abruptly.\n",
    "This is done by writing additional code in a program to give proper messages or instructions to the user on encountering an exception. \n",
    "This process is known as exception handling.\n",
    "\"\"\"\n"
   ]
  },
  {
   "cell_type": "code",
   "execution_count": null,
   "id": "8507e64a-44dc-448d-b89a-570743bad14a",
   "metadata": {},
   "outputs": [],
   "source": [
    "#14 . What is the purpose of the try clause? What is the purpose of the except clause?\n",
    "\"\"\"\n",
    "The try block lets you test a block of code for errors. \n",
    "The except block lets you handle the error.\n",
    "\n",
    "\"\"\""
   ]
  }
 ],
 "metadata": {
  "kernelspec": {
   "display_name": "Python 3 (ipykernel)",
   "language": "python",
   "name": "python3"
  },
  "language_info": {
   "codemirror_mode": {
    "name": "ipython",
    "version": 3
   },
   "file_extension": ".py",
   "mimetype": "text/x-python",
   "name": "python",
   "nbconvert_exporter": "python",
   "pygments_lexer": "ipython3",
   "version": "3.11.5"
  }
 },
 "nbformat": 4,
 "nbformat_minor": 5
}
